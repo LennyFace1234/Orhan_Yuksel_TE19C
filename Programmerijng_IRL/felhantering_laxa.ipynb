{
 "metadata": {
  "language_info": {
   "codemirror_mode": {
    "name": "ipython",
    "version": 3
   },
   "file_extension": ".py",
   "mimetype": "text/x-python",
   "name": "python",
   "nbconvert_exporter": "python",
   "pygments_lexer": "ipython3",
   "version": "3.8.3-final"
  },
  "orig_nbformat": 2,
  "kernelspec": {
   "name": "python3",
   "display_name": "Python 3",
   "language": "python"
  }
 },
 "nbformat": 4,
 "nbformat_minor": 2,
 "cells": [
  {
   "source": [
    "# 1. Felhantering\n",
    "Finn felen och rätta dem för att beräkna avståndet mellan punkterna (x,y) och origo i ett kartesiskt koordinatsystem. Notera att det inte enbart är syntaxfel"
   ],
   "cell_type": "markdown",
   "metadata": {}
  },
  {
   "cell_type": "code",
   "execution_count": 8,
   "metadata": {},
   "outputs": [
    {
     "output_type": "stream",
     "name": "stdout",
     "text": [
      "0.7071067811865476\n"
     ]
    }
   ],
   "source": [
    "import numpy as np\n",
    "\n",
    "def distance(x, y):\n",
    "    return np.sqrt(x**2+y**2)\n",
    "\n",
    "print(distance(0.5,0.5))"
   ]
  },
  {
   "source": [
    "# 2. Felhantering\n",
    "Finn felen och rätta dem. Ändra endast funktionen. Rör inte testprogram."
   ],
   "cell_type": "markdown",
   "metadata": {}
  },
  {
   "cell_type": "code",
   "execution_count": 14,
   "metadata": {},
   "outputs": [
    {
     "output_type": "stream",
     "name": "stdout",
     "text": [
      "100 är inte fyrsiffrigt\n231 är inte fyrsiffrigt\n10000 är fyrsiffrigt\n10001 är fyrsiffrigt\n-1000 är fyrsiffrigt\n102313 är inte fyrsiffrigt\n"
     ]
    }
   ],
   "source": [
    "def ar_fyrsirigt(tal):\n",
    "    if tal%1000 < 10 :\n",
    "        return True\n",
    "    else:\n",
    "        return False\n",
    "\n",
    "# testprogram\n",
    "testtal = [100, 231, 10000, 10001, -1000, 102313]\n",
    "\n",
    "for t in testtal:\n",
    "    if ar_fyrsirigt(t):\n",
    "        print(f\"{t} är fyrsiffrigt\")\n",
    "    else:\n",
    "        print(f\"{t} är inte fyrsiffrigt\")"
   ]
  },
  {
   "source": [
    "# 4. Felhantering\n",
    "Gör ett program som låter användaren mata in 5 tal, programmet ska hitta och skriva ut största talet, minsta talet, medelvärdet och medianen. Programmet ska hantera fel, ge tydliga felmeddelanden och frågar igen när man gör fel.\n"
   ],
   "cell_type": "markdown",
   "metadata": {}
  },
  {
   "cell_type": "code",
   "execution_count": null,
   "metadata": {},
   "outputs": [],
   "source": []
  }
 ]
}