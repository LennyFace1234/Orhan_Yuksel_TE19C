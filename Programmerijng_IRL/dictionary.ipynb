{
 "metadata": {
  "language_info": {
   "codemirror_mode": {
    "name": "ipython",
    "version": 3
   },
   "file_extension": ".py",
   "mimetype": "text/x-python",
   "name": "python",
   "nbconvert_exporter": "python",
   "pygments_lexer": "ipython3",
   "version": "3.8.3-final"
  },
  "orig_nbformat": 2,
  "kernelspec": {
   "name": "python3",
   "display_name": "Python 3.8.3 64-bit (conda)",
   "metadata": {
    "interpreter": {
     "hash": "0652361c9652ca9d11df440027a39321fdbde148116c3f53c3b0762d242e77c2"
    }
   }
  }
 },
 "nbformat": 4,
 "nbformat_minor": 2,
 "cells": [
  {
   "source": [
    "# Dictionary\n",
    "* Key:value par\n",
    "* Metafor: vanlig ordlista/lexikon"
   ],
   "cell_type": "markdown",
   "metadata": {}
  },
  {
   "cell_type": "code",
   "execution_count": 47,
   "metadata": {},
   "outputs": [
    {
     "output_type": "stream",
     "name": "stdout",
     "text": [
      "{'namn': 'Kokchun', 'ålder': 29, 'yrke': 'lärare', 'arbetsplats': 'NTI'}\nPersonens namn är Kokchun\nHan är 29 år gammal\nKokchun jobbar som lärare på skolan NTI\n"
     ]
    }
   ],
   "source": [
    "# syntax med dict()\n",
    "person = dict(\n",
    "    namn = \"Kokchun\",\n",
    "    ålder = 29,\n",
    "    yrke = \"lärare\",\n",
    "    arbetsplats = \"NTI\"\n",
    ")\n",
    "\n",
    "print(person)\n",
    "\n",
    "# kommer åt värdena genom att använda sig av person['key']\n",
    "print(f\"Personens namn är {person['namn']}\")\n",
    "print(f\"Han är {person['ålder']} år gammal\")\n",
    "print(f\"{person['namn']} jobbar som {person['yrke']} på skolan {person['arbetsplats']}\")\n"
   ]
  },
  {
   "cell_type": "code",
   "execution_count": 46,
   "metadata": {},
   "outputs": [
    {
     "output_type": "stream",
     "name": "stdout",
     "text": [
      "Ord vi behöver lära oss: \ntilldela  \t ge ett väde till en variabel\ndatastruktur  \t strukturering av data\nsträng  \t sekvens av tecken\ndictionary  \t datastruktur för att spara data i key.value par\n\n\nGloslista\ntilldela  \t ge ett väde till en variabel\ndatastruktur  \t strukturering av data\nsträng  \t sekvens av tecken\ndictionary  \t datastruktur för att spara data i key.value par\n"
     ]
    }
   ],
   "source": [
    "# syntax med {}\n",
    "glosor = {\n",
    "    \"tilldela\":\"ge ett väde till en variabel\", \"datastruktur\": \"strukturering av data\", \"sträng\": \"sekvens av tecken\"\n",
    "}\n",
    "\n",
    "# lägga till ett element\n",
    "glosor[\"dictionary\"] = \"datastruktur för att spara data i key.value par\"\n",
    "\n",
    "\"\"\" print(glosor[\"tilldela\"])\n",
    "print(glosor[\"sträng\"])\n",
    "print(glosor[\"dictionary\"]) \"\"\"\n",
    "\n",
    "print(\"Ord vi behöver lära oss: \")\n",
    "# ett sätt att loopa igenom en dictionary\n",
    "for key in glosor:\n",
    "    print(f\"{key}  \\t {glosor[key]}\")\n",
    "\n",
    "print(\"\\n\\nGloslista\")\n",
    "# ett annat sätt\n",
    "for key, value in glosor.items():\n",
    "    print(f\"{key}  \\t {value}\")\n"
   ]
  },
  {
   "cell_type": "code",
   "execution_count": null,
   "metadata": {},
   "outputs": [],
   "source": []
  }
 ]
}