{
 "metadata": {
  "language_info": {
   "codemirror_mode": {
    "name": "ipython",
    "version": 3
   },
   "file_extension": ".py",
   "mimetype": "text/x-python",
   "name": "python",
   "nbconvert_exporter": "python",
   "pygments_lexer": "ipython3",
   "version": "3.8.3-final"
  },
  "orig_nbformat": 2,
  "kernelspec": {
   "name": "python3",
   "display_name": "Python 3"
  }
 },
 "nbformat": 4,
 "nbformat_minor": 2,
 "cells": [
  {
   "source": [
    "# Listor\n",
    "* Indexering\n",
    "* append()\n",
    "* loopa genom lista\n",
    "* list comprehension\n",
    "* 2D lista"
   ],
   "cell_type": "markdown",
   "metadata": {}
  },
  {
   "cell_type": "code",
   "execution_count": 2,
   "metadata": {},
   "outputs": [
    {
     "output_type": "stream",
     "name": "stdout",
     "text": [
      "fruktlista: ['äpple', 'päron', 'kiwi', 'banan', 'jordgubbe', 'blåbär']\nfrukter[0]: äpple\nfrukter[-1]: blåbär\nfrukter[3]: banan\nfrukter[::-1]: ['blåbär', 'jordgubbe', 'banan', 'kiwi', 'päron', 'äpple']\n\n\nFrukt: äpple\nFrukt: päron\nFrukt: kiwi\nFrukt: banan\nFrukt: jordgubbe\nFrukt: blåbär\n"
     ]
    }
   ],
   "source": [
    "frukter = [\"äpple\", \"päron\", \"kiwi\", \"banan\", \"jordgubbe\", \"blåbär\"]\n",
    "print(f\"fruktlista: {frukter}\")\n",
    "print(f\"frukter[0]: {frukter[0]}\")\n",
    "print(f\"frukter[-1]: {frukter[-1]}\")\n",
    "print(f\"frukter[3]: {frukter[3]}\")\n",
    "print(f\"frukter[::-1]: {frukter[::-1]}\")\n",
    "print(\"\\n\")\n",
    "\n",
    "for frukt in frukter:\n",
    "    print(f\"Frukt: {frukt}\")\n"
   ]
  },
  {
   "cell_type": "code",
   "execution_count": 5,
   "metadata": {},
   "outputs": [
    {
     "output_type": "stream",
     "name": "stdout",
     "text": [
      "['tomat', 'gurka', 'majs', 'sallad', 'äpple', 'päron', 'kiwi', 'banan', 'jordgubbe', 'blåbär']\n"
     ]
    }
   ],
   "source": [
    "grönsaker = [\"tomat\", \"gurka\", \"majs\", \"sallad\"]\n",
    "\n",
    "frukter = [\"äpple\", \"päron\", \"kiwi\", \"banan\", \"jordgubbe\", \"blåbär\"]\n",
    "fruktsallad = [] # tom lista\n",
    "\n",
    "for grönsak in grönsaker:\n",
    "    fruktsallad.append(grönsak)\n",
    "\n",
    "for frukt in frukter:\n",
    "    fruktsallad.append(frukt)\n",
    "    \n",
    "print(fruktsallad)"
   ]
  },
  {
   "cell_type": "code",
   "execution_count": 9,
   "metadata": {},
   "outputs": [
    {
     "output_type": "stream",
     "name": "stdout",
     "text": [
      "x: [0, 1, 2, 3, 4, 5, 6, 7, 8, 9]\ny: [-2, 0, 2, 4, 6, 8, 10, 12, 14, 16]\n"
     ]
    }
   ],
   "source": [
    "import matplotlib.pylot\n",
    "ad plt\n",
    "\n",
    "# list comprehension\n",
    "y = [2*x-2 for x in range(10)]\n",
    "x = [x for x in range(10)]\n",
    "print(f\"x: {x}\")\n",
    "print(f\"y: {y}\")\n",
    "\n",
    "plt.plot(x,y)\n",
    "plt.xlabel\n"
   ]
  },
  {
   "cell_type": "code",
   "execution_count": 15,
   "metadata": {},
   "outputs": [
    {
     "output_type": "stream",
     "name": "stdout",
     "text": [
      "[[0, 0, 0, 0, 0, 0], [0, 1, 2, 3, 4, 5], [0, 2, 4, 6, 8, 10], [0, 3, 6, 9, 12, 15], [0, 4, 8, 12, 16, 20], [0, 5, 10, 15, 20, 25]]\ntabell[3]: [0, 3, 6, 9, 12, 15]\ntabell[3][3]: 9\n"
     ]
    }
   ],
   "source": [
    "# 2D lista\n",
    "tabell = []\n",
    "\n",
    "for i in range(11):\n",
    "    rad = [x*i for x in range(11)] # skapar en rad av gångertabellen\n",
    "    tabell.append(rad)\n",
    "\n",
    "print(tabell)\n",
    "print(f\"tabell[3]: {tabell[3]}\")\n",
    "print(f\"tabell[3][3]: {tabell[3][3]}\")"
   ]
  },
  {
   "cell_type": "code",
   "execution_count": null,
   "metadata": {},
   "outputs": [],
   "source": []
  }
 ]
}