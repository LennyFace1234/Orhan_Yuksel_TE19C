{
 "metadata": {
  "language_info": {
   "codemirror_mode": {
    "name": "ipython",
    "version": 3
   },
   "file_extension": ".py",
   "mimetype": "text/x-python",
   "name": "python",
   "nbconvert_exporter": "python",
   "pygments_lexer": "ipython3",
   "version": "3.8.3-final"
  },
  "orig_nbformat": 2,
  "kernelspec": {
   "name": "python3",
   "display_name": "Python 3"
  }
 },
 "nbformat": 4,
 "nbformat_minor": 2,
 "cells": [
  {
   "source": [
    "# 1.\n",
    "\n",
    "\"Skriv ett program där användaren kan mata in sitt namn och programmet räknar antalet bokstäver i namnet.\""
   ],
   "cell_type": "markdown",
   "metadata": {}
  },
  {
   "cell_type": "code",
   "execution_count": 9,
   "metadata": {},
   "outputs": [
    {
     "output_type": "stream",
     "name": "stdout",
     "text": [
      "Ditt namn inehåller 5 bokstäver\n"
     ]
    }
   ],
   "source": [
    "namn = input(\"Ange namn\")\n",
    "\n",
    "print(f\"Ditt namn inehåller {len(namn)} bokstäver\")"
   ]
  },
  {
   "source": [
    "# 2.\n",
    "\n",
    "\"Skriv ett program som räknar antalet ord i denna mening: En bild säger mer än tusen ord, en matematisk formel säger mer än tusen bilder.\""
   ],
   "cell_type": "markdown",
   "metadata": {}
  },
  {
   "cell_type": "code",
   "execution_count": 12,
   "metadata": {},
   "outputs": [
    {
     "output_type": "stream",
     "name": "stdout",
     "text": [
      "Denna mening har 15 ord\n"
     ]
    }
   ],
   "source": [
    "mening = \"En bild säger mer än tusen ord, en matematisk formel säger mer än tusen bilder\"\n",
    "\n",
    "mening = mening.split()\n",
    "\n",
    "print(f\"Denna mening har {len(mening)} ord\")\n",
    "\n"
   ]
  },
  {
   "source": [],
   "cell_type": "markdown",
   "metadata": {}
  }
 ]
}