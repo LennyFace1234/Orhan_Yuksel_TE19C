{
 "metadata": {
  "language_info": {
   "codemirror_mode": {
    "name": "ipython",
    "version": 3
   },
   "file_extension": ".py",
   "mimetype": "text/x-python",
   "name": "python",
   "nbconvert_exporter": "python",
   "pygments_lexer": "ipython3",
   "version": "3.8.3-final"
  },
  "orig_nbformat": 2,
  "kernelspec": {
   "name": "python3",
   "display_name": "Python 3"
  }
 },
 "nbformat": 4,
 "nbformat_minor": 2,
 "cells": [
  {
   "source": [
    "# Uppgift 1.\n",
    "\n",
    "\"Skriv ett program där användaren kan mata in sitt namn och programmet räknar antalet bokstäver i namnet.\""
   ],
   "cell_type": "markdown",
   "metadata": {}
  },
  {
   "cell_type": "code",
   "execution_count": 9,
   "metadata": {},
   "outputs": [
    {
     "output_type": "stream",
     "name": "stdout",
     "text": [
      "Ditt namn inehåller 5 bokstäver\n"
     ]
    }
   ],
   "source": [
    "namn = input(\"Ange namn\")\n",
    "\n",
    "print(f\"Ditt namn inehåller {len(namn)} bokstäver\")"
   ]
  },
  {
   "source": [
    "# Uppgift 2.\n",
    "\n",
    "\"Skriv ett program som räknar antalet ord i denna mening: En bild säger mer än tusen ord, en matematisk formel säger mer än tusen bilder.\""
   ],
   "cell_type": "markdown",
   "metadata": {}
  },
  {
   "cell_type": "code",
   "execution_count": 12,
   "metadata": {},
   "outputs": [
    {
     "output_type": "stream",
     "name": "stdout",
     "text": [
      "Denna mening har 15 ord\n"
     ]
    }
   ],
   "source": [
    "mening = \"En bild säger mer än tusen ord, en matematisk formel säger mer än tusen bilder\"\n",
    "\n",
    "mening = mening.split()\n",
    "\n",
    "print(f\"Denna mening har {len(mening)} ord\")\n",
    "\n"
   ]
  },
  {
   "source": [
    "# Uppgift 4."
   ],
   "cell_type": "markdown",
   "metadata": {}
  },
  {
   "cell_type": "code",
   "execution_count": 2,
   "metadata": {},
   "outputs": [
    {
     "output_type": "error",
     "ename": "SyntaxError",
     "evalue": "cannot assign to operator (<ipython-input-2-3c606b445f86>, line 6)",
     "traceback": [
      "\u001b[1;36m  File \u001b[1;32m\"<ipython-input-2-3c606b445f86>\"\u001b[1;36m, line \u001b[1;32m6\u001b[0m\n\u001b[1;33m    antal-vokaler = 0\u001b[0m\n\u001b[1;37m    ^\u001b[0m\n\u001b[1;31mSyntaxError\u001b[0m\u001b[1;31m:\u001b[0m cannot assign to operator\n"
     ]
    }
   ],
   "source": [
    "mening = \"Do not worry about your difficulties in Mathematics. I can assure you mine are still greater.\"\n",
    "\n",
    "mening = mening.lower()\n",
    "\n",
    "vokaler = [\"a\", \"i\", \"o\", \"u\", \"e\"]\n",
    "antal-vokaler = 0\n",
    "\n",
    "for vokal in vokaler:\n",
    "    antal-vokaler += mening.count(vokal)\n",
    "\n",
    "print(f\"Den här meningen har {antal-vokaler} vokaler\")\n",
    "\n",
    "\n"
   ]
  },
  {
   "cell_type": "code",
   "execution_count": null,
   "metadata": {},
   "outputs": [],
   "source": []
  }
 ]
}