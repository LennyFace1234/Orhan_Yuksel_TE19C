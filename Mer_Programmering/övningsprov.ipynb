{
 "metadata": {
  "language_info": {
   "codemirror_mode": {
    "name": "ipython",
    "version": 3
   },
   "file_extension": ".py",
   "mimetype": "text/x-python",
   "name": "python",
   "nbconvert_exporter": "python",
   "pygments_lexer": "ipython3",
   "version": 3
  },
  "orig_nbformat": 2
 },
 "nbformat": 4,
 "nbformat_minor": 2,
 "cells": [
  {
   "source": [
    "# 1. Beskriv vad denna kodsnutt gör:\n",
    "\n",
    "1. birds = 8000\n",
    "(Ger variabeln \"birds\" värdet 8000)\n",
    "\n",
    "2. year = 0 \n",
    "(ger variabeln \"year\" värdet 0)\n",
    "\n",
    "3. while birds > 800:\n",
    "4.      year += 1\n",
    "5.      birds /= 2\n",
    "6.      print(f\"År {year}: antal fåglar: {birds: .0f}\")"
   ],
   "cell_type": "markdown",
   "metadata": {}
  },
  {
   "source": [
    "# 3.\n",
    "\n",
    "Skriv en egen funktion som beräknar medelvärdet av tre tal. Anropa denna funktion med inputparametrarna 1,3 och 5."
   ],
   "cell_type": "markdown",
   "metadata": {}
  },
  {
   "cell_type": "code",
   "execution_count": null,
   "metadata": {},
   "outputs": [],
   "source": []
  }
 ]
}