{
 "metadata": {
  "language_info": {
   "codemirror_mode": {
    "name": "ipython",
    "version": 3
   },
   "file_extension": ".py",
   "mimetype": "text/x-python",
   "name": "python",
   "nbconvert_exporter": "python",
   "pygments_lexer": "ipython3",
   "version": "3.8.3-final"
  },
  "orig_nbformat": 2,
  "kernelspec": {
   "name": "python_defaultSpec_1600411322579",
   "display_name": "Python 3.8.3 64-bit ('orhan.yuksel': virtualenv)"
  }
 },
 "nbformat": 4,
 "nbformat_minor": 2,
 "cells": [
  {
   "cell_type": "markdown",
   "metadata": {},
   "source": [
    "# Provbetyg\n",
    "\n",
    "x - antal poäng\n",
    "\n",
    "A: $x > 60$\n",
    "\n",
    "B: 56-60\n",
    "\n",
    "C: 51-55\n",
    "\n",
    "D: 41-50\n",
    "\n",
    "E: 31-40\n",
    "\n",
    "F: $x \\le 30$\n",
    "\n",
    "Slumpa fram ett poäng mellan 0 och 65 och ge ett betyg till eleven.\n"
   ]
  },
  {
   "cell_type": "code",
   "execution_count": 6,
   "metadata": {
    "tags": []
   },
   "outputs": [
    {
     "output_type": "stream",
     "name": "stdout",
     "text": "Eleven Tommy fick 56 poäng, vilket ger betyg B\n"
    }
   ],
   "source": [
    "import random as rnd\n",
    "\n",
    "#slumpar ett heltal mellan 0 och 65\n",
    "poang = rnd.randint(0,65)\n",
    "\n",
    "# Skapat en lista som håller 6 strängar\n",
    "klass = [\"Kokchun\", \"Tommy\", \"Henrik\", \"Zsofia\", \"Simon\", \"Tatiana\"]\n",
    "\n",
    "if poang <= 30:\n",
    "    betyg = \"F\"\n",
    "elif poang <= 40:\n",
    "    betyg = \"E\"\n",
    "elif poang <= 50:\n",
    "    betyg = \"D\"\n",
    "elif poang <= 55:\n",
    "    betyg = \"C\"\n",
    "elif poang <= 60:\n",
    "    betyg = \"B\"\n",
    "else:\n",
    "    betyg = \"A\"\n",
    "\n",
    "elev = rnd.choice(klass)\n",
    "\n",
    "print(f\"Eleven {elev} fick {poang} poäng, vilket ger betyg {betyg}\")\n",
    "\n",
    "# Utökning av programmet: gör en for-sats som loopar igenom klassen och tar bort elever som vi använt"
   ]
  },
  {
   "cell_type": "code",
   "execution_count": null,
   "metadata": {},
   "outputs": [],
   "source": []
  }
 ]
}