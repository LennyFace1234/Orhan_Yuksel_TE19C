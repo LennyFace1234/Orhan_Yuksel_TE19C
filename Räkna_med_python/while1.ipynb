{
 "metadata": {
  "language_info": {
   "codemirror_mode": {
    "name": "ipython",
    "version": 3
   },
   "file_extension": ".py",
   "mimetype": "text/x-python",
   "name": "python",
   "nbconvert_exporter": "python",
   "pygments_lexer": "ipython3",
   "version": "3.8.3-final"
  },
  "orig_nbformat": 2,
  "kernelspec": {
   "name": "Python 3.8.3 64-bit ('base': conda)",
   "display_name": "Python 3.8.3 64-bit ('base': conda)",
   "metadata": {
    "interpreter": {
     "hash": "0652361c9652ca9d11df440027a39321fdbde148116c3f53c3b0762d242e77c2"
    }
   }
  }
 },
 "nbformat": 4,
 "nbformat_minor": 2,
 "cells": [
  {
   "source": [
    "# While-sats\n",
    "\n",
    "Kod upprepas så länge villkoret gäller\n",
    "\n",
    "for-sats: kod upprepas ett bestämt antal gånger"
   ],
   "cell_type": "markdown",
   "metadata": {}
  },
  {
   "cell_type": "code",
   "execution_count": 5,
   "metadata": {
    "tags": []
   },
   "outputs": [
    {
     "output_type": "stream",
     "name": "stdout",
     "text": "Jämna tal från 0-10\n0 2 4 6 8 10 "
    }
   ],
   "source": [
    "print(\"Jämna tal från 0-10\")\n",
    "n = 0\n",
    "while n <= 10:\n",
    "    print(f\"{n}\", end =\" \")\n",
    "    n += 2"
   ]
  },
  {
   "source": [
    "# Miljöutsläpp\n",
    "\n",
    "Ett miljöutsläpp halverar fågelpopulation i en ö varje år.\n",
    "\n",
    "Fågelpopulationen började på 8000st\n",
    "\n",
    "Hur många år tar det tills populationen blir mindre än en tiondel?\n"
   ],
   "cell_type": "markdown",
   "metadata": {}
  },
  {
   "cell_type": "code",
   "execution_count": 6,
   "metadata": {
    "tags": []
   },
   "outputs": [
    {
     "output_type": "stream",
     "name": "stdout",
     "text": "År 0: antal fåglar: 8000st\nÅr 1: antal  fåglar: 4000.0st\nÅr 2: antal  fåglar: 2000.0st\nÅr 3: antal  fåglar: 1000.0st\nÅr 4: antal  fåglar: 500.0st\n"
    }
   ],
   "source": [
    "fåglar = 8000\n",
    "antal_år = 0\n",
    "\n",
    "print(f\"År {antal_år}: antal fåglar: {fåglar}st\")\n",
    "\n",
    "while fåglar >= 800:\n",
    "    fåglar /= 2\n",
    "    antal_år += 1\n",
    "    print(f\"År {antal_år}: antal  fåglar: {fåglar}st\")"
   ]
  },
  {
   "cell_type": "code",
   "execution_count": 6,
   "metadata": {
    "tags": []
   },
   "outputs": [
    {
     "output_type": "stream",
     "name": "stdout",
     "text": "1+3+5+7+9 = 20\n"
    }
   ],
   "source": [
    "n = 0 #Räknarvariabel\n",
    "'''\n",
    "while n < 10: \n",
    "    print(n, end = \" \")\n",
    "    n += 1\n",
    "'''\n",
    "summa = 0 \n",
    "while n < 10: \n",
    "    summa = summa + n\n",
    "    n+= 2\n",
    "\n",
    "print(f\"1+3+5+7+9 = {summa}\")\n",
    "\n",
    "    \n"
   ]
  },
  {
   "source": [
    "# Mjölkuppgift - while\n",
    "\n",
    "1L mjölk 1 500 000 bakterier\n",
    "I rumstemperatur ökar antalet bakterier med 50% varje timme.\n",
    "\n",
    "Mjölk blir sur när bakterierna överstiger 10 000 000 st.\n",
    "\n",
    "Hur många timmar tills mjölken blir sur?"
   ],
   "cell_type": "markdown",
   "metadata": {}
  },
  {
   "cell_type": "code",
   "execution_count": 20,
   "metadata": {
    "tags": []
   },
   "outputs": [
    {
     "output_type": "stream",
     "name": "stdout",
     "text": "Det tar 5h i rumstemperatur för att mjölken ska surna\nx = [0 1 2 3 4 5]\ny = [1500000.0, 2250000.0, 3375000.0, 5062500.0, 7593750.0, 11390625.0]\n"
    },
    {
     "output_type": "error",
     "ename": "AttributeError",
     "evalue": "module &#39;matplotlib.pyplot&#39; has no attribute &#39;titel&#39;",
     "traceback": [
      "\u001b[1;31m---------------------------------------------------------------------------\u001b[0m",
      "\u001b[1;31mAttributeError\u001b[0m                            Traceback (most recent call last)",
      "\u001b[1;32m&lt;ipython-input-20-95014d05f855&gt;\u001b[0m in \u001b[0;36m&lt;module&gt;\u001b[1;34m\u001b[0m\n\u001b[0;32m     23\u001b[0m \u001b[0mplt\u001b[0m\u001b[1;33m.\u001b[0m\u001b[0mxlabel\u001b[0m\u001b[1;33m(\u001b[0m\u001b[1;34m&quot;Timmar (h)&quot;\u001b[0m\u001b[1;33m)\u001b[0m\u001b[1;33m\u001b[0m\u001b[1;33m\u001b[0m\u001b[0m\n\u001b[0;32m     24\u001b[0m \u001b[0mplt\u001b[0m\u001b[1;33m.\u001b[0m\u001b[0mylabel\u001b[0m\u001b[1;33m(\u001b[0m\u001b[1;34m&quot;Antal bakterier&quot;\u001b[0m\u001b[1;33m)\u001b[0m\u001b[1;33m\u001b[0m\u001b[1;33m\u001b[0m\u001b[0m\n\u001b[1;32m---&gt; 25\u001b[1;33m \u001b[0mplt\u001b[0m\u001b[1;33m.\u001b[0m\u001b[0mtitel\u001b[0m\u001b[1;33m(\u001b[0m\u001b[1;34m&quot;Bakterietillväxt i mjölk i rumstemperatur&quot;\u001b[0m\u001b[1;33m)\u001b[0m\u001b[1;33m\u001b[0m\u001b[1;33m\u001b[0m\u001b[0m\n\u001b[0m\u001b[0;32m     26\u001b[0m \u001b[0mplt\u001b[0m\u001b[1;33m.\u001b[0m\u001b[0mshow\u001b[0m\u001b[1;33m(\u001b[0m\u001b[1;33m)\u001b[0m\u001b[1;33m\u001b[0m\u001b[1;33m\u001b[0m\u001b[0m\n\u001b[0;32m     27\u001b[0m \u001b[1;33m\u001b[0m\u001b[0m\n",
      "\u001b[1;31mAttributeError\u001b[0m: module &#39;matplotlib.pyplot&#39; has no attribute &#39;titel&#39;"
     ]
    }
   ],
   "source": [
    "import matplotlib.pyplot as plt \n",
    "import numpy as np\n",
    "\n",
    "bakterier = 1.5e6 # 1.5 x 10^6\n",
    "surt = 1e7\n",
    "faktor = 1.5\n",
    "timmar = 0\n",
    "\n",
    "y_bakterier = [bakterier] #lista som ska hålla bakteriernas \"förändring\"\n",
    "\n",
    "while bakterier < surt:\n",
    "    bakterier = faktor*bakterier\n",
    "    y_bakterier.append(bakterier)\n",
    "    timmar += 1\n",
    "\n",
    "x_timmar = np.arange(timmar+1)\n",
    "\n",
    "print(f\"Det tar {timmar}h i rumstemperatur för att mjölken ska surna\")\n",
    "print(f\"x = {x_timmar}\")\n",
    "print(f\"y = {y_bakterier}\")\n",
    "\n",
    "plt.plot(x_timmar, y_bakterier)\n",
    "plt.xlabel(\"Timmar (h)\")\n",
    "plt.ylabel(\"Antal bakterier\")\n",
    "plt.titel(\"Bakterietillväxt i mjölk i rumstemperatur\")\n",
    "plt.show()\n",
    "\n"
   ]
  },
  {
   "cell_type": "code",
   "execution_count": null,
   "metadata": {},
   "outputs": [],
   "source": []
  }
 ]
}