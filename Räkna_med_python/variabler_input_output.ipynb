{
 "metadata": {
  "language_info": {
   "codemirror_mode": {
    "name": "ipython",
    "version": 3
   },
   "file_extension": ".py",
   "mimetype": "text/x-python",
   "name": "python",
   "nbconvert_exporter": "python",
   "pygments_lexer": "ipython3",
   "version": "3.8.3-final"
  },
  "orig_nbformat": 2,
  "kernelspec": {
   "name": "python_defaultSpec_1599654476584",
   "display_name": "Python 3.8.3 64-bit ('base': conda)"
  }
 },
 "nbformat": 4,
 "nbformat_minor": 2,
 "cells": [
  {
   "cell_type": "markdown",
   "metadata": {},
   "source": [
    "# Tyngdkraft\n",
    "- fråga användaren om sin vikt\n",
    "- Beräkna tyngdkraften\n",
    "\n",
    "$F = m*g$"
   ]
  },
  {
   "cell_type": "code",
   "execution_count": 3,
   "metadata": {
    "tags": []
   },
   "outputs": [
    {
     "output_type": "stream",
     "name": "stdout",
     "text": "Din tyngdkraft är 491.0N\n"
    }
   ],
   "source": [
    "# skapar en variabel g och tilldelar det värdet 9.82\n",
    "g = 9.82\n",
    "\n",
    "# input ger oss en sträng, float typomvandlar den till flyttal(samma som decimaltal)\n",
    "m = float(input(\"Hur mycket väger du?\"))\n",
    "\n",
    "F = m*g\n",
    "\n",
    "print(f\"Din tyngdkraft är {F}N\")\n"
   ]
  },
  {
   "cell_type": "markdown",
   "metadata": {},
   "source": [
    "# Procent\n",
    "\n",
    "- Fråga användaren om ett decimaltal\n",
    "- Omvandla talet till procent\n"
   ]
  },
  {
   "cell_type": "code",
   "execution_count": 1,
   "metadata": {
    "tags": []
   },
   "outputs": [
    {
     "output_type": "stream",
     "name": "stdout",
     "text": "0.58 = 58%\n"
    }
   ],
   "source": [
    "decimalTal = float(input(\"Ange ett decimalTal: \"))\n",
    "\n",
    "procent = decimalTal*100\n",
    "\n",
    "print(f\"{decimalTal} = {procent:.0f}%\")"
   ]
  },
  {
   "cell_type": "markdown",
   "metadata": {},
   "source": [
    "# K - C\n",
    "- Fråga användaren att ange temperaturen i Kelvin och omvandla till Celcius "
   ]
  },
  {
   "cell_type": "code",
   "execution_count": 28,
   "metadata": {
    "tags": []
   },
   "outputs": [
    {
     "output_type": "stream",
     "name": "stdout",
     "text": "10.0 Kelvin = -263 Celcius\n"
    }
   ],
   "source": [
    "Kelvin = float(input(\"Ange Kelvin tal: \"))\n",
    "\n",
    "C = Kelvin-273.15\n",
    "\n",
    "print(f\"{Kelvin} Kelvin = {C:.0f} Celcius\")"
   ]
  },
  {
   "cell_type": "markdown",
   "metadata": {},
   "source": [
    "# C - K\n",
    "- Fråga användaren att ange temperaturen i Kelvin och omvandla till °C"
   ]
  },
  {
   "cell_type": "code",
   "execution_count": 26,
   "metadata": {
    "tags": []
   },
   "outputs": [
    {
     "output_type": "stream",
     "name": "stdout",
     "text": "10.0 Celcius = 283 Kelvin\n"
    }
   ],
   "source": [
    "Celcius = float(input(\"Ange Celcius tal: \"))\n",
    "\n",
    "Kelvin = Celcius+273.15\n",
    "\n",
    "print(f\"{Celcius} Celcius = {Kelvin:.0f} Kelvin\")"
   ]
  },
  {
   "cell_type": "markdown",
   "metadata": {},
   "source": [
    "# Västtrafik\n",
    "- Engångsbiljett - 30kr\n",
    "- månadskort - 775kr\n",
    "- Fråga användaren hur många gånger hen åker med västtrafik. Beräkna totala kostnaden om användaren betalar med engångsbiljetter.\n",
    "\n",
    "Bonus: utöka programmet för att ta reda på om det är värt att köpa månadskort eller inte."
   ]
  },
  {
   "cell_type": "code",
   "execution_count": 25,
   "metadata": {
    "tags": []
   },
   "outputs": [
    {
     "output_type": "stream",
     "name": "stdout",
     "text": "det kostar 90 Kr att betala med engångsbiljett\n"
    }
   ],
   "source": [
    "Åk = float(input(\"Ange åk per dag: \"))\n",
    "\n",
    "Engångsbiljett = 30\n",
    "\n",
    "Kostnad = Engångsbiljett*Åk\n",
    "\n",
    "print(f\"Det kostar {Kostnad:.0f} Kr att betala med engångsbiljett\")"
   ]
  },
  {
   "cell_type": "code",
   "execution_count": null,
   "metadata": {},
   "outputs": [],
   "source": []
  }
 ]
}