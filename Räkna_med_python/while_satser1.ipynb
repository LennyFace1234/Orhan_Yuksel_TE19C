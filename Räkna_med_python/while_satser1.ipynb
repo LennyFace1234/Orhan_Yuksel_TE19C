{
 "metadata": {
  "language_info": {
   "codemirror_mode": {
    "name": "ipython",
    "version": 3
   },
   "file_extension": ".py",
   "mimetype": "text/x-python",
   "name": "python",
   "nbconvert_exporter": "python",
   "pygments_lexer": "ipython3",
   "version": "3.8.3-final"
  },
  "orig_nbformat": 2,
  "kernelspec": {
   "name": "Python 3.8.3 64-bit ('base': conda)",
   "display_name": "Python 3.8.3 64-bit ('base': conda)",
   "metadata": {
    "interpreter": {
     "hash": "0652361c9652ca9d11df440027a39321fdbde148116c3f53c3b0762d242e77c2"
    }
   }
  }
 },
 "nbformat": 4,
 "nbformat_minor": 2,
 "cells": [
  {
   "source": [
    "# While Satser 1"
   ],
   "cell_type": "markdown",
   "metadata": {}
  },
  {
   "cell_type": "code",
   "execution_count": 6,
   "metadata": {
    "tags": []
   },
   "outputs": [
    {
     "output_type": "stream",
     "name": "stdout",
     "text": "1+2+3+...+99+100 = 5050\n"
    }
   ],
   "source": [
    "n = 0\n",
    "summa = 0 \n",
    "while n < 101: \n",
    "    summa = summa + n\n",
    "    n+= 1\n",
    "\n",
    "print(f\"1+2+3+...+99+100 = {summa}\")\n"
   ]
  },
  {
   "source": [
    "# While satser 2"
   ],
   "cell_type": "markdown",
   "metadata": {}
  },
  {
   "cell_type": "code",
   "execution_count": 9,
   "metadata": {
    "tags": []
   },
   "outputs": [
    {
     "output_type": "stream",
     "name": "stdout",
     "text": "1+3+5+...+99 = 2450\n"
    }
   ],
   "source": [
    "n = 0\n",
    "summa = 0 \n",
    "while n < 100: \n",
    "    summa = summa + n\n",
    "    n+= 2\n",
    "\n",
    "print(f\"1+3+5+...+99 = {summa}\")\n"
   ]
  },
  {
   "source": [
    "# While satser 5"
   ],
   "cell_type": "markdown",
   "metadata": {}
  },
  {
   "cell_type": "code",
   "execution_count": null,
   "metadata": {},
   "outputs": [],
   "source": [
    "import random as rnd \n",
    "\n",
    "n = rnd.randint(0,101)\n",
    "s = float(input(\"Ange slumpmässig tal mellan 1 och 100\"))\n",
    "\n",
    "while s != n:\n",
    "    if n > s"
   ]
  }
 ]
}